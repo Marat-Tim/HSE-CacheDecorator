{
 "cells": [
  {
   "cell_type": "markdown",
   "id": "ede42f83",
   "metadata": {},
   "source": [
    "# Сам декоратор"
   ]
  },
  {
   "cell_type": "code",
   "execution_count": 1,
   "id": "ece72c78",
   "metadata": {},
   "outputs": [],
   "source": [
    "from functools import wraps\n",
    "from collections import deque\n",
    "import time\n",
    "\n",
    "\n",
    "# Типы кэша.\n",
    "LAST_CALLS = 0\n",
    "POPULAR_CALLS = 1\n",
    "\n",
    "\n",
    "# Выводит состояние переданных в параметры переменных до и после вызова функции.\n",
    "def print_debug(active, *debug_args):\n",
    "    if active:\n",
    "        def decorator(func):\n",
    "            @wraps(func)\n",
    "            def wrapper(*args, **kwargs):\n",
    "                print(f\"DEBUG: {func.__name__}({', '.join(map(str, args))}, \"\n",
    "                      f\"{', '.join(map(lambda x: f'{x}={kwargs[x]}', kwargs))})\\n\"\n",
    "                      f\"Before call function:\\n\" +\n",
    "                      '\\n'.join(map(lambda x: f\"{x[0]}: {x[1]}\", debug_args)) + '\\n')\n",
    "                ret = func(*args, **kwargs)\n",
    "                print(f\"After call function:\\n\" +\n",
    "                      '\\n'.join(map(lambda x: f\"{x[0]}: {x[1]}\", debug_args)) + '\\n')\n",
    "                return ret\n",
    "\n",
    "            return wrapper\n",
    "\n",
    "        return decorator\n",
    "    else:\n",
    "        def decorator(func):\n",
    "            return func\n",
    "\n",
    "        return decorator\n",
    "\n",
    "\n",
    "def my_cache(cache_size=None,\n",
    "             cache_type=LAST_CALLS,\n",
    "             call_history_size=None,\n",
    "             debug=False):\n",
    "    # Задаем функцию, отвечающую за хранение и печать истории вызовов.\n",
    "    if call_history_size is not None:\n",
    "        call_history = deque()\n",
    "\n",
    "        def print_call_history(func, args, kwargs):\n",
    "            if len(call_history) >= call_history_size:\n",
    "                call_history.pop()\n",
    "            call_history.appendleft(\n",
    "                f\"{func.__name__}\"\n",
    "                f\"({', '.join(map(str, args))}, \"\n",
    "                f\"{', '.join(map(lambda x: f'{x}={kwargs[x]}', kwargs))})\"\n",
    "            )\n",
    "            print('Call history:\\n' + '\\n'.join(call_history) + '\\n')\n",
    "    else:\n",
    "        # Если хранить и печатать историю вызовов не надо, то создаем функцию, которая ничего не делает.\n",
    "        def print_call_history(func, args, kwargs):\n",
    "            pass\n",
    "\n",
    "    # Если размер кэша не задан, то максимум, что мы должны делать - печатать историю вызовов.\n",
    "    if cache_size is None:\n",
    "        def decorator(func):\n",
    "            @wraps(func)\n",
    "            def wrapper(*args, **kwargs):\n",
    "                print_call_history(func, args, kwargs)\n",
    "                return func(*args, **kwargs)\n",
    "\n",
    "            return wrapper\n",
    "\n",
    "        return decorator\n",
    "\n",
    "    # Если размер кэша отрицательный, то мы считаем его бесконечным(нелогично, но ладно), значит можно просто хранить\n",
    "    # словарь, где ключ - это аргумент, а значение - результат работы функции при данном аргументе.\n",
    "    if cache_size < 0:\n",
    "        args_to_rets = dict()\n",
    "\n",
    "        def decorator(func):\n",
    "            @print_debug(debug, (\"args_to_rets\", args_to_rets))\n",
    "            @wraps(func)\n",
    "            def wrapper(*args, **kwargs):\n",
    "                print_call_history(func, args, kwargs)\n",
    "                # Преобразуем аргументы в неизменяемый тип, чтобы их можно было использовать в качестве ключа в словаре.\n",
    "                args_as_key = args, tuple(sorted(kwargs))\n",
    "                if args_as_key in args_to_rets:\n",
    "                    return args_to_rets[args_as_key]\n",
    "                ret = func(*args, **kwargs)\n",
    "                args_to_rets[args_as_key] = ret\n",
    "                return ret\n",
    "\n",
    "            return wrapper\n",
    "\n",
    "        return decorator\n",
    "\n",
    "    # Если тип кэша - LAST_CALLS, то будем хранить словарь из аргументов в пару (возвраты, количество таких\n",
    "    # аргументов в очереди) + очередь с историей вызовов.\n",
    "    if cache_type == LAST_CALLS:\n",
    "        queue_of_args = deque()\n",
    "        args_to_rets = dict()\n",
    "\n",
    "        def decorator(func):\n",
    "            @print_debug(debug, (\"args_to_rets\", args_to_rets), (\"queue_of_args\", queue_of_args))\n",
    "            @wraps(func)\n",
    "            def wrapper(*args, **kwargs):\n",
    "                print_call_history(func, args, kwargs)\n",
    "                args_as_key = args, tuple(sorted(kwargs))\n",
    "\n",
    "                # Если мы уже вызывали функцию с такими аргументами, то:\n",
    "                if args_as_key in args_to_rets:\n",
    "                    queue_of_args.appendleft(args_as_key)\n",
    "                    # Увеличиваем счетчик вызовов с такими аргументами на 1.\n",
    "                    args_to_rets[args_as_key][1] += 1\n",
    "                    if len(queue_of_args) > cache_size:\n",
    "                        to_del = queue_of_args.pop()\n",
    "                        # Уменьшаем счетчик вызовов с такими аргументами на 1. Если счетчик стал равен нулю, \n",
    "                        # то удаляем такие аргументы из словаря. \n",
    "                        args_to_rets[to_del][1] -= 1\n",
    "                        if args_to_rets[to_del][1] == 0:\n",
    "                            args_to_rets.pop(to_del)\n",
    "                    return args_to_rets[args_as_key][0]\n",
    "\n",
    "                ret = func(*args, **kwargs)\n",
    "                queue_of_args.appendleft(args_as_key)\n",
    "                # Так как мы еще не вызывали функцию с такими аргументами, то счетчик вызовов с такими аргументами равен 1.\n",
    "                args_to_rets[args_as_key] = [ret, 1]\n",
    "                if len(queue_of_args) > cache_size:\n",
    "                    to_del = queue_of_args.pop()\n",
    "                    # Уменьшаем счетчик вызовов с такими аргументами на 1.\n",
    "                    args_to_rets[to_del][1] -= 1\n",
    "                    if args_to_rets[to_del][1] == 0:\n",
    "                        args_to_rets.pop(to_del)\n",
    "                return ret\n",
    "\n",
    "            return wrapper\n",
    "\n",
    "        return decorator\n",
    "\n",
    "    # Если тип кэша - POPULAR_CALLS, то будем хранить словарь из аргументов в возвраты + словарь из аргументов в\n",
    "    # количество вызовов функции с такими аргументами.\n",
    "    if cache_type == POPULAR_CALLS:\n",
    "        args_to_rets = dict()\n",
    "        args_to_call_count = dict()\n",
    "\n",
    "        def decorator(func):\n",
    "            @print_debug(debug, (\"args_to_rets\", args_to_rets), (\"args_to_call_count\", args_to_call_count))\n",
    "            @wraps(func)\n",
    "            def wrapper(*args, **kwargs):\n",
    "                print_call_history(func, args, kwargs)\n",
    "                args_as_key = args, tuple(sorted(kwargs))\n",
    "                # Если мы уже вызывали функцию от таких аргументов, то увеличиваем счетчик вызовов и возвращаем\n",
    "                # результат.\n",
    "                if args_as_key in args_to_rets:\n",
    "                    args_to_call_count[args_as_key] += 1\n",
    "                    return args_to_rets[args_as_key]\n",
    "                # Если еще не вызывали, то ищем ключ с наименьшим количеством вызовов и удаляем его из обоих словарей.\n",
    "                ret = func(*args, **kwargs)\n",
    "                if len(args_to_rets) >= cache_size:\n",
    "                    min_key = min(args_to_call_count,\n",
    "                                  key=args_to_call_count.get)\n",
    "                    args_to_rets.pop(min_key)\n",
    "                    args_to_call_count.pop(min_key)\n",
    "                args_to_rets[args_as_key] = ret\n",
    "                args_to_call_count[args_as_key] = 1\n",
    "                return ret\n",
    "\n",
    "            return wrapper\n",
    "\n",
    "        return decorator"
   ]
  },
  {
   "cell_type": "markdown",
   "id": "e0fc56ba",
   "metadata": {},
   "source": [
    "Для тестов будем использовать декоратор, который печатает время выполнения функции"
   ]
  },
  {
   "cell_type": "code",
   "execution_count": 2,
   "id": "00b3436f",
   "metadata": {},
   "outputs": [],
   "source": [
    "def clock(func):\n",
    "    @wraps(func)\n",
    "    def clocked(*args, **kwargs):\n",
    "        t_start = time.time()\n",
    "        res = func(*args, **kwargs)\n",
    "        total_time = time.time() - t_start\n",
    "\n",
    "        print(f\"{func.__name__}(\"\n",
    "              f\"{', '.join(map(str, args))}, \"\n",
    "              f\"{', '.join(map(lambda x: f'{x}={kwargs[x]}', kwargs))})\"\n",
    "              f\" -> {res} executed in {total_time:.3f}\")\n",
    "\n",
    "        return res\n",
    "\n",
    "    return clocked"
   ]
  },
  {
   "cell_type": "markdown",
   "id": "894af36e",
   "metadata": {},
   "source": [
    "Чтобы понимать насколько эффективен тот или иной вид кэша, будем считать с его помощью числа Фибоначчи.\n",
    "\n",
    "Для начала попробуем посчитать определенное число Фибоначчи без кэша."
   ]
  },
  {
   "cell_type": "code",
   "execution_count": 3,
   "id": "ef8b6095",
   "metadata": {},
   "outputs": [],
   "source": [
    "NUMBER_FOR_TESTS = 6\n",
    "\n",
    "@clock\n",
    "def calc_fib(n):\n",
    "    time.sleep(1)\n",
    "\n",
    "    if n < 2:\n",
    "        return n\n",
    "\n",
    "    return calc_fib(n - 1) + calc_fib(n - 2)"
   ]
  },
  {
   "cell_type": "code",
   "execution_count": 4,
   "id": "c8ac5e46",
   "metadata": {},
   "outputs": [
    {
     "name": "stdout",
     "output_type": "stream",
     "text": [
      "calc_fib(1, ) -> 1 executed in 1.002\n",
      "calc_fib(0, ) -> 0 executed in 1.013\n",
      "calc_fib(2, ) -> 1 executed in 3.021\n",
      "calc_fib(1, ) -> 1 executed in 1.014\n",
      "calc_fib(3, ) -> 2 executed in 5.049\n",
      "calc_fib(1, ) -> 1 executed in 1.003\n",
      "calc_fib(0, ) -> 0 executed in 1.006\n",
      "calc_fib(2, ) -> 1 executed in 3.010\n",
      "calc_fib(4, ) -> 3 executed in 9.060\n",
      "calc_fib(1, ) -> 1 executed in 1.000\n",
      "calc_fib(0, ) -> 0 executed in 1.003\n",
      "calc_fib(2, ) -> 1 executed in 3.004\n",
      "calc_fib(1, ) -> 1 executed in 1.003\n",
      "calc_fib(3, ) -> 2 executed in 5.011\n",
      "calc_fib(5, ) -> 5 executed in 15.083\n",
      "calc_fib(1, ) -> 1 executed in 1.014\n",
      "calc_fib(0, ) -> 0 executed in 1.016\n",
      "calc_fib(2, ) -> 1 executed in 3.033\n",
      "calc_fib(1, ) -> 1 executed in 1.012\n",
      "calc_fib(3, ) -> 2 executed in 5.046\n",
      "calc_fib(1, ) -> 1 executed in 1.007\n",
      "calc_fib(0, ) -> 0 executed in 1.004\n",
      "calc_fib(2, ) -> 1 executed in 3.013\n",
      "calc_fib(4, ) -> 3 executed in 9.071\n",
      "calc_fib(6, ) -> 8 executed in 25.163\n"
     ]
    },
    {
     "data": {
      "text/plain": [
       "8"
      ]
     },
     "execution_count": 4,
     "metadata": {},
     "output_type": "execute_result"
    }
   ],
   "source": [
    "calc_fib(NUMBER_FOR_TESTS)"
   ]
  },
  {
   "cell_type": "markdown",
   "id": "0b7417e1",
   "metadata": {},
   "source": [
    "На будущее запомним, что без кэша посчитать шестое число Фибоначчи занимает 25 секунд"
   ]
  },
  {
   "cell_type": "markdown",
   "id": "82e7291a",
   "metadata": {},
   "source": [
    "# Ничего не делающий кэш"
   ]
  },
  {
   "cell_type": "markdown",
   "id": "bf5fb2fa",
   "metadata": {},
   "source": [
    "По заданию такое нужно было сделать"
   ]
  },
  {
   "cell_type": "code",
   "execution_count": 5,
   "id": "f62862e7",
   "metadata": {},
   "outputs": [],
   "source": [
    "@clock\n",
    "@my_cache(None)\n",
    "def foo(x):\n",
    "    time.sleep(1)\n",
    "    return x"
   ]
  },
  {
   "cell_type": "code",
   "execution_count": 6,
   "id": "1b63942b",
   "metadata": {},
   "outputs": [
    {
     "name": "stdout",
     "output_type": "stream",
     "text": [
      "foo(1, ) -> 1 executed in 1.002\n"
     ]
    },
    {
     "data": {
      "text/plain": [
       "1"
      ]
     },
     "execution_count": 6,
     "metadata": {},
     "output_type": "execute_result"
    }
   ],
   "source": [
    "foo(1)"
   ]
  },
  {
   "cell_type": "code",
   "execution_count": 7,
   "id": "9a886f52",
   "metadata": {},
   "outputs": [
    {
     "name": "stdout",
     "output_type": "stream",
     "text": [
      "foo(1, ) -> 1 executed in 1.002\n"
     ]
    },
    {
     "data": {
      "text/plain": [
       "1"
      ]
     },
     "execution_count": 7,
     "metadata": {},
     "output_type": "execute_result"
    }
   ],
   "source": [
    "foo(1)"
   ]
  },
  {
   "cell_type": "markdown",
   "id": "33f353ef",
   "metadata": {},
   "source": [
    "Видно, что время выполнения при одинаковых аргументах не меняется"
   ]
  },
  {
   "cell_type": "markdown",
   "id": "91f5404f",
   "metadata": {},
   "source": [
    "# Кэш, хранящий историю вызовов"
   ]
  },
  {
   "cell_type": "markdown",
   "id": "9d12ff3a",
   "metadata": {},
   "source": [
    "Тут ничего не кэшируется, просто хранится история вызовов"
   ]
  },
  {
   "cell_type": "code",
   "execution_count": 8,
   "id": "03130c97",
   "metadata": {},
   "outputs": [],
   "source": [
    "@clock\n",
    "@my_cache(None, call_history_size=4)\n",
    "def foo(x):\n",
    "    time.sleep(1)\n",
    "    return x"
   ]
  },
  {
   "cell_type": "code",
   "execution_count": 9,
   "id": "fbef855a",
   "metadata": {},
   "outputs": [
    {
     "name": "stdout",
     "output_type": "stream",
     "text": [
      "Call history:\n",
      "foo(1, )\n",
      "\n",
      "foo(1, ) -> 1 executed in 1.002\n"
     ]
    },
    {
     "data": {
      "text/plain": [
       "1"
      ]
     },
     "execution_count": 9,
     "metadata": {},
     "output_type": "execute_result"
    }
   ],
   "source": [
    "foo(1)"
   ]
  },
  {
   "cell_type": "code",
   "execution_count": 11,
   "id": "547f72aa",
   "metadata": {},
   "outputs": [
    {
     "name": "stdout",
     "output_type": "stream",
     "text": [
      "Call history:\n",
      "foo(2, )\n",
      "foo(2, )\n",
      "foo(1, )\n",
      "\n",
      "foo(2, ) -> 2 executed in 1.007\n"
     ]
    },
    {
     "data": {
      "text/plain": [
       "2"
      ]
     },
     "execution_count": 11,
     "metadata": {},
     "output_type": "execute_result"
    }
   ],
   "source": [
    "foo(2)"
   ]
  },
  {
   "cell_type": "code",
   "execution_count": 12,
   "id": "a7c19d0f",
   "metadata": {},
   "outputs": [
    {
     "name": "stdout",
     "output_type": "stream",
     "text": [
      "Call history:\n",
      "foo(1, )\n",
      "foo(2, )\n",
      "foo(2, )\n",
      "foo(1, )\n",
      "\n",
      "foo(1, ) -> 1 executed in 1.013\n"
     ]
    },
    {
     "data": {
      "text/plain": [
       "1"
      ]
     },
     "execution_count": 12,
     "metadata": {},
     "output_type": "execute_result"
    }
   ],
   "source": [
    "foo(1)"
   ]
  },
  {
   "cell_type": "code",
   "execution_count": 13,
   "id": "3bbc6fb5",
   "metadata": {},
   "outputs": [
    {
     "name": "stdout",
     "output_type": "stream",
     "text": [
      "Call history:\n",
      "foo(3, )\n",
      "foo(1, )\n",
      "foo(2, )\n",
      "foo(2, )\n",
      "\n",
      "foo(3, ) -> 3 executed in 1.004\n"
     ]
    },
    {
     "data": {
      "text/plain": [
       "3"
      ]
     },
     "execution_count": 13,
     "metadata": {},
     "output_type": "execute_result"
    }
   ],
   "source": [
    "foo(3)"
   ]
  },
  {
   "cell_type": "code",
   "execution_count": 14,
   "id": "9865d118",
   "metadata": {},
   "outputs": [
    {
     "name": "stdout",
     "output_type": "stream",
     "text": [
      "Call history:\n",
      "foo(4, )\n",
      "foo(3, )\n",
      "foo(1, )\n",
      "foo(2, )\n",
      "\n",
      "foo(4, ) -> 4 executed in 1.006\n"
     ]
    },
    {
     "data": {
      "text/plain": [
       "4"
      ]
     },
     "execution_count": 14,
     "metadata": {},
     "output_type": "execute_result"
    }
   ],
   "source": [
    "foo(4)"
   ]
  },
  {
   "cell_type": "markdown",
   "id": "2502e7c0",
   "metadata": {},
   "source": [
    "Я реализовал историю в виде очереди. В предыдущей ячейке видно, что при новом вызове функции, информация о нем добавляется наверх, а информация о самом старом вызове удаляется"
   ]
  },
  {
   "cell_type": "markdown",
   "id": "05496e66",
   "metadata": {},
   "source": [
    "# Кэш, хранящий результаты всех вызовов"
   ]
  },
  {
   "cell_type": "code",
   "execution_count": 15,
   "id": "66e6d643",
   "metadata": {},
   "outputs": [],
   "source": [
    "@clock\n",
    "@my_cache(cache_size=-1, debug=True)\n",
    "def foo(x):\n",
    "    time.sleep(1)\n",
    "    return x"
   ]
  },
  {
   "cell_type": "code",
   "execution_count": 16,
   "id": "43fe30b4",
   "metadata": {},
   "outputs": [
    {
     "name": "stdout",
     "output_type": "stream",
     "text": [
      "DEBUG: foo(1, )\n",
      "Before call function:\n",
      "args_to_rets: {}\n",
      "\n",
      "After call function:\n",
      "args_to_rets: {((1,), ()): 1}\n",
      "\n",
      "foo(1, ) -> 1 executed in 1.006\n"
     ]
    },
    {
     "data": {
      "text/plain": [
       "1"
      ]
     },
     "execution_count": 16,
     "metadata": {},
     "output_type": "execute_result"
    }
   ],
   "source": [
    "foo(1)"
   ]
  },
  {
   "cell_type": "code",
   "execution_count": 17,
   "id": "71a34bcf",
   "metadata": {},
   "outputs": [
    {
     "name": "stdout",
     "output_type": "stream",
     "text": [
      "DEBUG: foo(1, )\n",
      "Before call function:\n",
      "args_to_rets: {((1,), ()): 1}\n",
      "\n",
      "After call function:\n",
      "args_to_rets: {((1,), ()): 1}\n",
      "\n",
      "foo(1, ) -> 1 executed in 0.000\n"
     ]
    },
    {
     "data": {
      "text/plain": [
       "1"
      ]
     },
     "execution_count": 17,
     "metadata": {},
     "output_type": "execute_result"
    }
   ],
   "source": [
    "foo(1)"
   ]
  },
  {
   "cell_type": "code",
   "execution_count": 18,
   "id": "7a510c83",
   "metadata": {},
   "outputs": [
    {
     "name": "stdout",
     "output_type": "stream",
     "text": [
      "DEBUG: foo(2, )\n",
      "Before call function:\n",
      "args_to_rets: {((1,), ()): 1}\n",
      "\n",
      "After call function:\n",
      "args_to_rets: {((1,), ()): 1, ((2,), ()): 2}\n",
      "\n",
      "foo(2, ) -> 2 executed in 1.007\n"
     ]
    },
    {
     "data": {
      "text/plain": [
       "2"
      ]
     },
     "execution_count": 18,
     "metadata": {},
     "output_type": "execute_result"
    }
   ],
   "source": [
    "foo(2)"
   ]
  },
  {
   "cell_type": "code",
   "execution_count": 19,
   "id": "2dc2af05",
   "metadata": {},
   "outputs": [
    {
     "name": "stdout",
     "output_type": "stream",
     "text": [
      "DEBUG: foo(3, )\n",
      "Before call function:\n",
      "args_to_rets: {((1,), ()): 1, ((2,), ()): 2}\n",
      "\n",
      "After call function:\n",
      "args_to_rets: {((1,), ()): 1, ((2,), ()): 2, ((3,), ()): 3}\n",
      "\n",
      "foo(3, ) -> 3 executed in 1.017\n"
     ]
    },
    {
     "data": {
      "text/plain": [
       "3"
      ]
     },
     "execution_count": 19,
     "metadata": {},
     "output_type": "execute_result"
    }
   ],
   "source": [
    "foo(3)"
   ]
  },
  {
   "cell_type": "code",
   "execution_count": 20,
   "id": "58fdcf77",
   "metadata": {},
   "outputs": [
    {
     "name": "stdout",
     "output_type": "stream",
     "text": [
      "DEBUG: foo(2, )\n",
      "Before call function:\n",
      "args_to_rets: {((1,), ()): 1, ((2,), ()): 2, ((3,), ()): 3}\n",
      "\n",
      "After call function:\n",
      "args_to_rets: {((1,), ()): 1, ((2,), ()): 2, ((3,), ()): 3}\n",
      "\n",
      "foo(2, ) -> 2 executed in 0.000\n"
     ]
    },
    {
     "data": {
      "text/plain": [
       "2"
      ]
     },
     "execution_count": 20,
     "metadata": {},
     "output_type": "execute_result"
    }
   ],
   "source": [
    "foo(2)"
   ]
  },
  {
   "cell_type": "code",
   "execution_count": 21,
   "id": "06764504",
   "metadata": {},
   "outputs": [
    {
     "name": "stdout",
     "output_type": "stream",
     "text": [
      "DEBUG: foo(3, )\n",
      "Before call function:\n",
      "args_to_rets: {((1,), ()): 1, ((2,), ()): 2, ((3,), ()): 3}\n",
      "\n",
      "After call function:\n",
      "args_to_rets: {((1,), ()): 1, ((2,), ()): 2, ((3,), ()): 3}\n",
      "\n",
      "foo(3, ) -> 3 executed in 0.000\n"
     ]
    },
    {
     "data": {
      "text/plain": [
       "3"
      ]
     },
     "execution_count": 21,
     "metadata": {},
     "output_type": "execute_result"
    }
   ],
   "source": [
    "foo(3)"
   ]
  },
  {
   "cell_type": "code",
   "execution_count": 22,
   "id": "a9bab2db",
   "metadata": {},
   "outputs": [
    {
     "name": "stdout",
     "output_type": "stream",
     "text": [
      "DEBUG: foo(1, )\n",
      "Before call function:\n",
      "args_to_rets: {((1,), ()): 1, ((2,), ()): 2, ((3,), ()): 3}\n",
      "\n",
      "After call function:\n",
      "args_to_rets: {((1,), ()): 1, ((2,), ()): 2, ((3,), ()): 3}\n",
      "\n",
      "foo(1, ) -> 1 executed in 0.001\n"
     ]
    },
    {
     "data": {
      "text/plain": [
       "1"
      ]
     },
     "execution_count": 22,
     "metadata": {},
     "output_type": "execute_result"
    }
   ],
   "source": [
    "foo(1)"
   ]
  },
  {
   "cell_type": "markdown",
   "id": "bf24491e",
   "metadata": {},
   "source": [
    "Проверим этот кэш на функции вычисления щестого числа Фибоначчи"
   ]
  },
  {
   "cell_type": "code",
   "execution_count": 23,
   "id": "f7c2754e",
   "metadata": {},
   "outputs": [],
   "source": [
    "@clock\n",
    "@my_cache(cache_size=-1)\n",
    "def calc_fib(n):\n",
    "    time.sleep(1)\n",
    "\n",
    "    if n < 2:\n",
    "        return n\n",
    "\n",
    "    return calc_fib(n - 1) + calc_fib(n - 2)"
   ]
  },
  {
   "cell_type": "code",
   "execution_count": 24,
   "id": "8d7c182e",
   "metadata": {},
   "outputs": [
    {
     "name": "stdout",
     "output_type": "stream",
     "text": [
      "calc_fib(1, ) -> 1 executed in 1.000\n",
      "calc_fib(0, ) -> 0 executed in 1.013\n",
      "calc_fib(2, ) -> 1 executed in 3.013\n",
      "calc_fib(1, ) -> 1 executed in 0.000\n",
      "calc_fib(3, ) -> 2 executed in 4.014\n",
      "calc_fib(2, ) -> 1 executed in 0.000\n",
      "calc_fib(4, ) -> 3 executed in 5.023\n",
      "calc_fib(3, ) -> 2 executed in 0.000\n",
      "calc_fib(5, ) -> 5 executed in 6.028\n",
      "calc_fib(4, ) -> 3 executed in 0.000\n",
      "calc_fib(6, ) -> 8 executed in 7.031\n"
     ]
    },
    {
     "data": {
      "text/plain": [
       "8"
      ]
     },
     "execution_count": 24,
     "metadata": {},
     "output_type": "execute_result"
    }
   ],
   "source": [
    "calc_fib(NUMBER_FOR_TESTS)"
   ]
  },
  {
   "cell_type": "markdown",
   "id": "d6475c4c",
   "metadata": {},
   "source": [
    "Более чем в 3 раза быстрее, чем без кэша"
   ]
  },
  {
   "cell_type": "markdown",
   "id": "eae16f13",
   "metadata": {},
   "source": [
    "# Кэш, хранящий результаты последних нескольких вызовов"
   ]
  },
  {
   "cell_type": "code",
   "execution_count": 25,
   "id": "d9b53a8c",
   "metadata": {},
   "outputs": [],
   "source": [
    "@clock\n",
    "@my_cache(cache_size=2, cache_type=LAST_CALLS, debug=True)\n",
    "def foo(x):\n",
    "    time.sleep(1)\n",
    "    return x"
   ]
  },
  {
   "cell_type": "code",
   "execution_count": 26,
   "id": "9904133b",
   "metadata": {},
   "outputs": [
    {
     "name": "stdout",
     "output_type": "stream",
     "text": [
      "DEBUG: foo(1, )\n",
      "Before call function:\n",
      "args_to_rets: {}\n",
      "queue_of_args: deque([])\n",
      "\n",
      "After call function:\n",
      "args_to_rets: {((1,), ()): [1, 1]}\n",
      "queue_of_args: deque([((1,), ())])\n",
      "\n",
      "foo(1, ) -> 1 executed in 1.013\n"
     ]
    },
    {
     "data": {
      "text/plain": [
       "1"
      ]
     },
     "execution_count": 26,
     "metadata": {},
     "output_type": "execute_result"
    }
   ],
   "source": [
    "foo(1)"
   ]
  },
  {
   "cell_type": "code",
   "execution_count": 27,
   "id": "1626351d",
   "metadata": {},
   "outputs": [
    {
     "name": "stdout",
     "output_type": "stream",
     "text": [
      "DEBUG: foo(2, )\n",
      "Before call function:\n",
      "args_to_rets: {((1,), ()): [1, 1]}\n",
      "queue_of_args: deque([((1,), ())])\n",
      "\n",
      "After call function:\n",
      "args_to_rets: {((1,), ()): [1, 1], ((2,), ()): [2, 1]}\n",
      "queue_of_args: deque([((2,), ()), ((1,), ())])\n",
      "\n",
      "foo(2, ) -> 2 executed in 1.016\n"
     ]
    },
    {
     "data": {
      "text/plain": [
       "2"
      ]
     },
     "execution_count": 27,
     "metadata": {},
     "output_type": "execute_result"
    }
   ],
   "source": [
    "foo(2)"
   ]
  },
  {
   "cell_type": "code",
   "execution_count": 28,
   "id": "8e4c3fd4",
   "metadata": {},
   "outputs": [
    {
     "name": "stdout",
     "output_type": "stream",
     "text": [
      "DEBUG: foo(1, )\n",
      "Before call function:\n",
      "args_to_rets: {((1,), ()): [1, 1], ((2,), ()): [2, 1]}\n",
      "queue_of_args: deque([((2,), ()), ((1,), ())])\n",
      "\n",
      "After call function:\n",
      "args_to_rets: {((1,), ()): [1, 1], ((2,), ()): [2, 1]}\n",
      "queue_of_args: deque([((1,), ()), ((2,), ())])\n",
      "\n",
      "foo(1, ) -> 1 executed in 0.000\n"
     ]
    },
    {
     "data": {
      "text/plain": [
       "1"
      ]
     },
     "execution_count": 28,
     "metadata": {},
     "output_type": "execute_result"
    }
   ],
   "source": [
    "foo(1) # Так как вызывали раньше, то выполняется мгновенно"
   ]
  },
  {
   "cell_type": "code",
   "execution_count": 29,
   "id": "450a1d30",
   "metadata": {},
   "outputs": [
    {
     "name": "stdout",
     "output_type": "stream",
     "text": [
      "DEBUG: foo(3, )\n",
      "Before call function:\n",
      "args_to_rets: {((1,), ()): [1, 1], ((2,), ()): [2, 1]}\n",
      "queue_of_args: deque([((1,), ()), ((2,), ())])\n",
      "\n",
      "After call function:\n",
      "args_to_rets: {((1,), ()): [1, 1], ((3,), ()): [3, 1]}\n",
      "queue_of_args: deque([((3,), ()), ((1,), ())])\n",
      "\n",
      "foo(3, ) -> 3 executed in 1.004\n"
     ]
    },
    {
     "data": {
      "text/plain": [
       "3"
      ]
     },
     "execution_count": 29,
     "metadata": {},
     "output_type": "execute_result"
    }
   ],
   "source": [
    "foo(3)"
   ]
  },
  {
   "cell_type": "code",
   "execution_count": 30,
   "id": "fdef27f9",
   "metadata": {},
   "outputs": [
    {
     "name": "stdout",
     "output_type": "stream",
     "text": [
      "DEBUG: foo(2, )\n",
      "Before call function:\n",
      "args_to_rets: {((1,), ()): [1, 1], ((3,), ()): [3, 1]}\n",
      "queue_of_args: deque([((3,), ()), ((1,), ())])\n",
      "\n",
      "After call function:\n",
      "args_to_rets: {((3,), ()): [3, 1], ((2,), ()): [2, 1]}\n",
      "queue_of_args: deque([((2,), ()), ((3,), ())])\n",
      "\n",
      "foo(2, ) -> 2 executed in 1.011\n"
     ]
    },
    {
     "data": {
      "text/plain": [
       "2"
      ]
     },
     "execution_count": 30,
     "metadata": {},
     "output_type": "execute_result"
    }
   ],
   "source": [
    "foo(2) # Среди предыдущих двух вызовов не было двойки, поэтому выполняется долго"
   ]
  },
  {
   "cell_type": "markdown",
   "id": "77e25d36",
   "metadata": {},
   "source": [
    "Испытаем такой вариант на числах Фибоначчи"
   ]
  },
  {
   "cell_type": "code",
   "execution_count": 31,
   "id": "b2c2f53b",
   "metadata": {},
   "outputs": [],
   "source": [
    "@clock\n",
    "@my_cache(cache_size=3, cache_type=LAST_CALLS)\n",
    "def calc_fib(n):\n",
    "    time.sleep(1)\n",
    "\n",
    "    if n < 2:\n",
    "        return n\n",
    "\n",
    "    return calc_fib(n - 1) + calc_fib(n - 2)"
   ]
  },
  {
   "cell_type": "code",
   "execution_count": 32,
   "id": "18a01b8d",
   "metadata": {},
   "outputs": [
    {
     "name": "stdout",
     "output_type": "stream",
     "text": [
      "calc_fib(1, ) -> 1 executed in 1.005\n",
      "calc_fib(0, ) -> 0 executed in 1.011\n",
      "calc_fib(2, ) -> 1 executed in 3.016\n",
      "calc_fib(1, ) -> 1 executed in 0.000\n",
      "calc_fib(3, ) -> 2 executed in 4.016\n",
      "calc_fib(2, ) -> 1 executed in 0.000\n",
      "calc_fib(4, ) -> 3 executed in 5.031\n",
      "calc_fib(3, ) -> 2 executed in 0.000\n",
      "calc_fib(5, ) -> 5 executed in 6.044\n",
      "calc_fib(4, ) -> 3 executed in 0.000\n",
      "calc_fib(6, ) -> 8 executed in 7.055\n"
     ]
    },
    {
     "data": {
      "text/plain": [
       "8"
      ]
     },
     "execution_count": 32,
     "metadata": {},
     "output_type": "execute_result"
    }
   ],
   "source": [
    "calc_fib(NUMBER_FOR_TESTS)"
   ]
  },
  {
   "cell_type": "markdown",
   "id": "9616dc28",
   "metadata": {},
   "source": [
    "Столько же, сколько у кэширования всех результатов"
   ]
  },
  {
   "cell_type": "markdown",
   "id": "bd4e10ae",
   "metadata": {},
   "source": [
    "# Кэш, хранящий результаты популярных вызовов"
   ]
  },
  {
   "cell_type": "code",
   "execution_count": 40,
   "id": "b4412940",
   "metadata": {},
   "outputs": [],
   "source": [
    "@clock\n",
    "@my_cache(cache_size=2, cache_type=POPULAR_CALLS, debug=True)\n",
    "def foo(x):\n",
    "    time.sleep(1)\n",
    "    return x"
   ]
  },
  {
   "cell_type": "code",
   "execution_count": 41,
   "id": "2f0a0a91",
   "metadata": {},
   "outputs": [
    {
     "name": "stdout",
     "output_type": "stream",
     "text": [
      "DEBUG: foo(1, )\n",
      "Before call function:\n",
      "args_to_rets: {}\n",
      "args_to_call_count: {}\n",
      "\n",
      "After call function:\n",
      "args_to_rets: {((1,), ()): 1}\n",
      "args_to_call_count: {((1,), ()): 1}\n",
      "\n",
      "foo(1, ) -> 1 executed in 1.001\n"
     ]
    },
    {
     "data": {
      "text/plain": [
       "1"
      ]
     },
     "execution_count": 41,
     "metadata": {},
     "output_type": "execute_result"
    }
   ],
   "source": [
    "foo(1)"
   ]
  },
  {
   "cell_type": "code",
   "execution_count": 42,
   "id": "4eb7f33f",
   "metadata": {},
   "outputs": [
    {
     "name": "stdout",
     "output_type": "stream",
     "text": [
      "DEBUG: foo(1, )\n",
      "Before call function:\n",
      "args_to_rets: {((1,), ()): 1}\n",
      "args_to_call_count: {((1,), ()): 1}\n",
      "\n",
      "After call function:\n",
      "args_to_rets: {((1,), ()): 1}\n",
      "args_to_call_count: {((1,), ()): 2}\n",
      "\n",
      "foo(1, ) -> 1 executed in 0.000\n"
     ]
    },
    {
     "data": {
      "text/plain": [
       "1"
      ]
     },
     "execution_count": 42,
     "metadata": {},
     "output_type": "execute_result"
    }
   ],
   "source": [
    "foo(1)"
   ]
  },
  {
   "cell_type": "code",
   "execution_count": 43,
   "id": "cced16f2",
   "metadata": {},
   "outputs": [
    {
     "name": "stdout",
     "output_type": "stream",
     "text": [
      "DEBUG: foo(2, )\n",
      "Before call function:\n",
      "args_to_rets: {((1,), ()): 1}\n",
      "args_to_call_count: {((1,), ()): 2}\n",
      "\n",
      "After call function:\n",
      "args_to_rets: {((1,), ()): 1, ((2,), ()): 2}\n",
      "args_to_call_count: {((1,), ()): 2, ((2,), ()): 1}\n",
      "\n",
      "foo(2, ) -> 2 executed in 1.013\n"
     ]
    },
    {
     "data": {
      "text/plain": [
       "2"
      ]
     },
     "execution_count": 43,
     "metadata": {},
     "output_type": "execute_result"
    }
   ],
   "source": [
    "foo(2)"
   ]
  },
  {
   "cell_type": "code",
   "execution_count": 44,
   "id": "0c6643ce",
   "metadata": {},
   "outputs": [
    {
     "name": "stdout",
     "output_type": "stream",
     "text": [
      "DEBUG: foo(2, )\n",
      "Before call function:\n",
      "args_to_rets: {((1,), ()): 1, ((2,), ()): 2}\n",
      "args_to_call_count: {((1,), ()): 2, ((2,), ()): 1}\n",
      "\n",
      "After call function:\n",
      "args_to_rets: {((1,), ()): 1, ((2,), ()): 2}\n",
      "args_to_call_count: {((1,), ()): 2, ((2,), ()): 2}\n",
      "\n",
      "foo(2, ) -> 2 executed in 0.000\n"
     ]
    },
    {
     "data": {
      "text/plain": [
       "2"
      ]
     },
     "execution_count": 44,
     "metadata": {},
     "output_type": "execute_result"
    }
   ],
   "source": [
    "foo(2)"
   ]
  },
  {
   "cell_type": "code",
   "execution_count": 45,
   "id": "175edfd9",
   "metadata": {},
   "outputs": [
    {
     "name": "stdout",
     "output_type": "stream",
     "text": [
      "DEBUG: foo(1, )\n",
      "Before call function:\n",
      "args_to_rets: {((1,), ()): 1, ((2,), ()): 2}\n",
      "args_to_call_count: {((1,), ()): 2, ((2,), ()): 2}\n",
      "\n",
      "After call function:\n",
      "args_to_rets: {((1,), ()): 1, ((2,), ()): 2}\n",
      "args_to_call_count: {((1,), ()): 3, ((2,), ()): 2}\n",
      "\n",
      "foo(1, ) -> 1 executed in 0.000\n"
     ]
    },
    {
     "data": {
      "text/plain": [
       "1"
      ]
     },
     "execution_count": 45,
     "metadata": {},
     "output_type": "execute_result"
    }
   ],
   "source": [
    "foo(1) # Хоть и предыдущие 2 вызова это foo(2), но все равно foo(1) выполняется мгновенно"
   ]
  },
  {
   "cell_type": "code",
   "execution_count": 46,
   "id": "5dd616be",
   "metadata": {},
   "outputs": [
    {
     "name": "stdout",
     "output_type": "stream",
     "text": [
      "DEBUG: foo(3, )\n",
      "Before call function:\n",
      "args_to_rets: {((1,), ()): 1, ((2,), ()): 2}\n",
      "args_to_call_count: {((1,), ()): 3, ((2,), ()): 2}\n",
      "\n",
      "After call function:\n",
      "args_to_rets: {((1,), ()): 1, ((3,), ()): 3}\n",
      "args_to_call_count: {((1,), ()): 3, ((3,), ()): 1}\n",
      "\n",
      "foo(3, ) -> 3 executed in 1.000\n"
     ]
    },
    {
     "data": {
      "text/plain": [
       "3"
      ]
     },
     "execution_count": 46,
     "metadata": {},
     "output_type": "execute_result"
    }
   ],
   "source": [
    "foo(3) # Так как foo(1) вызывалась 3 раза, а foo(2) - 2, то foo(3) затрет foo(2)"
   ]
  },
  {
   "cell_type": "code",
   "execution_count": 47,
   "id": "5e25e88d",
   "metadata": {},
   "outputs": [
    {
     "name": "stdout",
     "output_type": "stream",
     "text": [
      "DEBUG: foo(2, )\n",
      "Before call function:\n",
      "args_to_rets: {((1,), ()): 1, ((3,), ()): 3}\n",
      "args_to_call_count: {((1,), ()): 3, ((3,), ()): 1}\n",
      "\n",
      "After call function:\n",
      "args_to_rets: {((1,), ()): 1, ((2,), ()): 2}\n",
      "args_to_call_count: {((1,), ()): 3, ((2,), ()): 1}\n",
      "\n",
      "foo(2, ) -> 2 executed in 1.011\n"
     ]
    },
    {
     "data": {
      "text/plain": [
       "2"
      ]
     },
     "execution_count": 47,
     "metadata": {},
     "output_type": "execute_result"
    }
   ],
   "source": [
    "foo(2)"
   ]
  },
  {
   "cell_type": "code",
   "execution_count": 48,
   "id": "d3a53ad6",
   "metadata": {},
   "outputs": [
    {
     "name": "stdout",
     "output_type": "stream",
     "text": [
      "DEBUG: foo(2, )\n",
      "Before call function:\n",
      "args_to_rets: {((1,), ()): 1, ((2,), ()): 2}\n",
      "args_to_call_count: {((1,), ()): 3, ((2,), ()): 1}\n",
      "\n",
      "After call function:\n",
      "args_to_rets: {((1,), ()): 1, ((2,), ()): 2}\n",
      "args_to_call_count: {((1,), ()): 3, ((2,), ()): 2}\n",
      "\n",
      "foo(2, ) -> 2 executed in 0.000\n"
     ]
    },
    {
     "data": {
      "text/plain": [
       "2"
      ]
     },
     "execution_count": 48,
     "metadata": {},
     "output_type": "execute_result"
    }
   ],
   "source": [
    "foo(2)"
   ]
  },
  {
   "cell_type": "code",
   "execution_count": 49,
   "id": "7d2dedd3",
   "metadata": {},
   "outputs": [
    {
     "name": "stdout",
     "output_type": "stream",
     "text": [
      "DEBUG: foo(2, )\n",
      "Before call function:\n",
      "args_to_rets: {((1,), ()): 1, ((2,), ()): 2}\n",
      "args_to_call_count: {((1,), ()): 3, ((2,), ()): 2}\n",
      "\n",
      "After call function:\n",
      "args_to_rets: {((1,), ()): 1, ((2,), ()): 2}\n",
      "args_to_call_count: {((1,), ()): 3, ((2,), ()): 3}\n",
      "\n",
      "foo(2, ) -> 2 executed in 0.000\n",
      "DEBUG: foo(2, )\n",
      "Before call function:\n",
      "args_to_rets: {((1,), ()): 1, ((2,), ()): 2}\n",
      "args_to_call_count: {((1,), ()): 3, ((2,), ()): 3}\n",
      "\n",
      "After call function:\n",
      "args_to_rets: {((1,), ()): 1, ((2,), ()): 2}\n",
      "args_to_call_count: {((1,), ()): 3, ((2,), ()): 4}\n",
      "\n",
      "foo(2, ) -> 2 executed in 0.000\n",
      "DEBUG: foo(2, )\n",
      "Before call function:\n",
      "args_to_rets: {((1,), ()): 1, ((2,), ()): 2}\n",
      "args_to_call_count: {((1,), ()): 3, ((2,), ()): 4}\n",
      "\n",
      "After call function:\n",
      "args_to_rets: {((1,), ()): 1, ((2,), ()): 2}\n",
      "args_to_call_count: {((1,), ()): 3, ((2,), ()): 5}\n",
      "\n",
      "foo(2, ) -> 2 executed in 0.000\n"
     ]
    },
    {
     "data": {
      "text/plain": [
       "2"
      ]
     },
     "execution_count": 49,
     "metadata": {},
     "output_type": "execute_result"
    }
   ],
   "source": [
    "foo(2)\n",
    "foo(2)\n",
    "foo(2)"
   ]
  },
  {
   "cell_type": "code",
   "execution_count": 50,
   "id": "cba7b294",
   "metadata": {},
   "outputs": [
    {
     "name": "stdout",
     "output_type": "stream",
     "text": [
      "DEBUG: foo(1, )\n",
      "Before call function:\n",
      "args_to_rets: {((1,), ()): 1, ((2,), ()): 2}\n",
      "args_to_call_count: {((1,), ()): 3, ((2,), ()): 5}\n",
      "\n",
      "After call function:\n",
      "args_to_rets: {((1,), ()): 1, ((2,), ()): 2}\n",
      "args_to_call_count: {((1,), ()): 4, ((2,), ()): 5}\n",
      "\n",
      "foo(1, ) -> 1 executed in 0.000\n"
     ]
    },
    {
     "data": {
      "text/plain": [
       "1"
      ]
     },
     "execution_count": 50,
     "metadata": {},
     "output_type": "execute_result"
    }
   ],
   "source": [
    "foo(1) # Даже после 3 вызовов foo(2), у нас все еще есть foo(1)"
   ]
  },
  {
   "cell_type": "code",
   "execution_count": 51,
   "id": "080579a3",
   "metadata": {},
   "outputs": [
    {
     "name": "stdout",
     "output_type": "stream",
     "text": [
      "DEBUG: foo(7, )\n",
      "Before call function:\n",
      "args_to_rets: {((1,), ()): 1, ((2,), ()): 2}\n",
      "args_to_call_count: {((1,), ()): 4, ((2,), ()): 5}\n",
      "\n",
      "After call function:\n",
      "args_to_rets: {((2,), ()): 2, ((7,), ()): 7}\n",
      "args_to_call_count: {((2,), ()): 5, ((7,), ()): 1}\n",
      "\n",
      "foo(7, ) -> 7 executed in 1.010\n"
     ]
    },
    {
     "data": {
      "text/plain": [
       "7"
      ]
     },
     "execution_count": 51,
     "metadata": {},
     "output_type": "execute_result"
    }
   ],
   "source": [
    "foo(7) # Сейчас количество вызовов у двойки больше чем у единицы, поэтому семерка затрет единицу"
   ]
  },
  {
   "cell_type": "markdown",
   "id": "ea5ddc75",
   "metadata": {},
   "source": [
    "Испытаем этот кэш на числах Фибоначчи"
   ]
  },
  {
   "cell_type": "code",
   "execution_count": 52,
   "id": "0e174b64",
   "metadata": {},
   "outputs": [],
   "source": [
    "@clock\n",
    "@my_cache(cache_size=4, cache_type=POPULAR_CALLS)\n",
    "def calc_fib(n):\n",
    "    time.sleep(1)\n",
    "\n",
    "    if n < 2:\n",
    "        return n\n",
    "\n",
    "    return calc_fib(n - 1) + calc_fib(n - 2)"
   ]
  },
  {
   "cell_type": "code",
   "execution_count": 53,
   "id": "8b3b2e6f",
   "metadata": {},
   "outputs": [
    {
     "name": "stdout",
     "output_type": "stream",
     "text": [
      "calc_fib(1, ) -> 1 executed in 1.000\n",
      "calc_fib(0, ) -> 0 executed in 1.015\n",
      "calc_fib(2, ) -> 1 executed in 3.015\n",
      "calc_fib(1, ) -> 1 executed in 0.000\n",
      "calc_fib(3, ) -> 2 executed in 4.015\n",
      "calc_fib(2, ) -> 1 executed in 0.000\n",
      "calc_fib(4, ) -> 3 executed in 5.015\n",
      "calc_fib(3, ) -> 2 executed in 0.000\n",
      "calc_fib(5, ) -> 5 executed in 6.029\n",
      "calc_fib(3, ) -> 2 executed in 0.000\n",
      "calc_fib(2, ) -> 1 executed in 0.000\n",
      "calc_fib(4, ) -> 3 executed in 1.001\n",
      "calc_fib(6, ) -> 8 executed in 8.042\n"
     ]
    },
    {
     "data": {
      "text/plain": [
       "8"
      ]
     },
     "execution_count": 53,
     "metadata": {},
     "output_type": "execute_result"
    }
   ],
   "source": [
    "calc_fib(NUMBER_FOR_TESTS)"
   ]
  },
  {
   "cell_type": "markdown",
   "id": "82ce80c5",
   "metadata": {},
   "source": [
    "На 1 секунду дольше чем у кэша, хранящего последние вызовы"
   ]
  },
  {
   "cell_type": "markdown",
   "id": "a1ce9b52",
   "metadata": {},
   "source": [
    "# Теперь посмотрим какой тип кэша лучше"
   ]
  },
  {
   "cell_type": "markdown",
   "id": "72a815eb",
   "metadata": {},
   "source": [
    "Храним популярные запросы"
   ]
  },
  {
   "cell_type": "code",
   "execution_count": 54,
   "id": "6630c908",
   "metadata": {},
   "outputs": [],
   "source": [
    "@my_cache(cache_size=4, cache_type=POPULAR_CALLS)\n",
    "def calc_fib(n):\n",
    "    time.sleep(1)\n",
    "\n",
    "    if n < 2:\n",
    "        return n\n",
    "\n",
    "    return calc_fib(n - 1) + calc_fib(n - 2)"
   ]
  },
  {
   "cell_type": "code",
   "execution_count": 55,
   "id": "10ed9196",
   "metadata": {},
   "outputs": [
    {
     "name": "stdout",
     "output_type": "stream",
     "text": [
      "Wall time: 37.1 s\n"
     ]
    },
    {
     "data": {
      "text/plain": [
       "55"
      ]
     },
     "execution_count": 55,
     "metadata": {},
     "output_type": "execute_result"
    }
   ],
   "source": [
    "%%time\n",
    "\n",
    "calc_fib(10)"
   ]
  },
  {
   "cell_type": "markdown",
   "id": "449ed4ff",
   "metadata": {},
   "source": [
    "Храним последние запросы"
   ]
  },
  {
   "cell_type": "code",
   "execution_count": 56,
   "id": "7c0d2609",
   "metadata": {},
   "outputs": [],
   "source": [
    "@my_cache(cache_size=4, cache_type=LAST_CALLS)\n",
    "def calc_fib(n):\n",
    "    time.sleep(1)\n",
    "\n",
    "    if n < 2:\n",
    "        return n\n",
    "\n",
    "    return calc_fib(n - 1) + calc_fib(n - 2)"
   ]
  },
  {
   "cell_type": "code",
   "execution_count": 57,
   "id": "e1a44037",
   "metadata": {},
   "outputs": [
    {
     "name": "stdout",
     "output_type": "stream",
     "text": [
      "Wall time: 11 s\n"
     ]
    },
    {
     "data": {
      "text/plain": [
       "55"
      ]
     },
     "execution_count": 57,
     "metadata": {},
     "output_type": "execute_result"
    }
   ],
   "source": [
    "%%time\n",
    "\n",
    "calc_fib(10)"
   ]
  },
  {
   "cell_type": "markdown",
   "id": "f66344e1",
   "metadata": {},
   "source": [
    "Не храним кэш"
   ]
  },
  {
   "cell_type": "code",
   "execution_count": 58,
   "id": "d2015817",
   "metadata": {},
   "outputs": [],
   "source": [
    "def calc_fib(n):\n",
    "    time.sleep(1)\n",
    "\n",
    "    if n < 2:\n",
    "        return n\n",
    "\n",
    "    return calc_fib(n - 1) + calc_fib(n - 2)"
   ]
  },
  {
   "cell_type": "code",
   "execution_count": 59,
   "id": "c93b29fd",
   "metadata": {},
   "outputs": [
    {
     "name": "stdout",
     "output_type": "stream",
     "text": [
      "Wall time: 2min 57s\n"
     ]
    },
    {
     "data": {
      "text/plain": [
       "55"
      ]
     },
     "execution_count": 59,
     "metadata": {},
     "output_type": "execute_result"
    }
   ],
   "source": [
    "%%time\n",
    "\n",
    "calc_fib(10)"
   ]
  },
  {
   "cell_type": "markdown",
   "id": "defc09dc",
   "metadata": {},
   "source": [
    "# Вывод"
   ]
  },
  {
   "cell_type": "markdown",
   "id": "60d6bfd6",
   "metadata": {},
   "source": [
    "Получилось, что любой кэш сильно выгоднее обычной функции, но кэш, хранящий последние запросы, оказался лучше кэша, хранящего популярные запросы. Я думаю, это связано с тем, что функция на которой я тестировал кэши благоприятна первому кэшу, потому что в ней часто выполняются запросы, которые выполнялись совсем недавно. Например calc_fib(n) считает calc_fib(n-1), что в свою очередь считает calc_fib(n-2) и calc_fib(n-3) и посчитав их у нас в истории будет calc_fib(n-3), calc_fib(n-2), calc_fib(n-1), потом calc_fib(n) вызывает calc_fib(n-2) который у нас уже посчитан. Я думаю, что если не будет такой хорошей зависимости как в числах Фибоначчи, а, например, будет сайт, на котором пользователи будут выполнять какие-нибудь функции, тогда кэш с популярными запросами может хорошо себя проявить. С другой стороны, POPULAR_CALLS требует O(n) операций при работе, в отличии от LAST_CALLS, который требует для своей работы O(1) операций, но если мы не будем делать огромный кэш, то это вряд ли сильно повлияет, хотя тут уже зависит от функции, к которой мы хотим применить кэш"
   ]
  }
 ],
 "metadata": {
  "kernelspec": {
   "display_name": "Python 3",
   "language": "python",
   "name": "python3"
  },
  "language_info": {
   "codemirror_mode": {
    "name": "ipython",
    "version": 3
   },
   "file_extension": ".py",
   "mimetype": "text/x-python",
   "name": "python",
   "nbconvert_exporter": "python",
   "pygments_lexer": "ipython3",
   "version": "3.8.8"
  },
  "nbTranslate": {
   "displayLangs": [
    "ru",
    "en"
   ],
   "hotkey": "ctrl-shift-g",
   "langInMainMenu": true,
   "sourceLang": "en",
   "targetLang": "ru",
   "useGoogleTranslate": true
  },
  "toc": {
   "base_numbering": 1,
   "nav_menu": {},
   "number_sections": true,
   "sideBar": true,
   "skip_h1_title": false,
   "title_cell": "Table of Contents",
   "title_sidebar": "Contents",
   "toc_cell": false,
   "toc_position": {},
   "toc_section_display": true,
   "toc_window_display": false
  }
 },
 "nbformat": 4,
 "nbformat_minor": 5
}
